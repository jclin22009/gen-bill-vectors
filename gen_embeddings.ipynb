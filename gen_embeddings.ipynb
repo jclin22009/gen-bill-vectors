{
 "cells": [
  {
   "cell_type": "code",
   "execution_count": 1,
   "metadata": {},
   "outputs": [
    {
     "name": "stderr",
     "output_type": "stream",
     "text": [
      "Reading bills: 11902it [00:00, 37455.80it/s]"
     ]
    },
    {
     "name": "stdout",
     "output_type": "stream",
     "text": [
      "Read! ✅\n"
     ]
    },
    {
     "name": "stderr",
     "output_type": "stream",
     "text": [
      "\n"
     ]
    }
   ],
   "source": [
    "import json\n",
    "from tqdm import tqdm\n",
    "\n",
    "# Read data from JSON\n",
    "parsed_data = []\n",
    "first_50 = []\n",
    "all = []\n",
    "# Bill fields: 'billId', 'title', 'introducedDate', 'billText', 'crsSummary', 'briefSummary', 'verboseSummary'\n",
    "with open(\"data.jsons\", \"r\") as file:\n",
    "    for line in tqdm(file, desc=\"Reading bills\"):\n",
    "        json_object = json.loads(line)\n",
    "        parsed_data.append(json_object)\n",
    "    health_bills = [\n",
    "        bill\n",
    "        for bill in parsed_data\n",
    "        if \"health\" in bill[\"title\"].lower() and len(bill[\"billText\"].split()) <= 500\n",
    "    ]\n",
    "    first_50 = health_bills[:50]\n",
    "    all = [ bill for bill in parsed_data]\n",
    "print('Read! ✅')"
   ]
  },
  {
   "cell_type": "code",
   "execution_count": 2,
   "metadata": {},
   "outputs": [
    {
     "name": "stdout",
     "output_type": "stream",
     "text": [
      "Embeddings loaded! ✅\n",
      "Query: how is life my guy\n",
      "Top 5 results:\n",
      "1. Life.Gov Act (similarity: 0.18)\n",
      "2. Fentanyl Trafficker Elimination Act (similarity: 0.16)\n",
      "3. Honoring the life and legacy of Jack Trice. (similarity: 0.15)\n",
      "4. Expressing congratulations to T.J. Hopkins for his promotion to the Cincinnati Reds. (similarity: 0.14)\n",
      "5. Smarter Sentencing Act of 2023 (similarity: 0.14)\n",
      "Query: \n",
      "Top 5 results:\n",
      "1. Condemning antisemitism on college campuses. (similarity: 0.17)\n",
      "2. Condemning antisemitism on college campuses. (similarity: 0.16)\n",
      "3. Equality Act (similarity: 0.16)\n",
      "4. SALT Deductibility Act (similarity: 0.16)\n",
      "5. Reaffirming the support of the United States to our strongest ally in the region, Israel, and recognizing the authoritarian and extremist regime of the Islamic Republic of Iran as a threat to Israel, the region, the United States, and global stability. (similarity: 0.16)\n"
     ]
    }
   ],
   "source": [
    "from dotenv import load_dotenv\n",
    "from openai import OpenAI\n",
    "import numpy as np\n",
    "import os\n",
    "from sklearn.metrics.pairwise import cosine_similarity\n",
    "\n",
    "gen_embeddings_from_scratch = False\n",
    "\n",
    "# load openAI API key\n",
    "load_dotenv()\n",
    "client = OpenAI(api_key=os.environ.get(\"OPENAI_API_KEY\"))\n",
    "\n",
    "\n",
    "def gen_embedding(text):\n",
    "    response = client.embeddings.create(\n",
    "        input=text,\n",
    "        model=\"text-embedding-3-large\",\n",
    "    )\n",
    "    return np.array(response.data[0].embedding)\n",
    "\n",
    "\n",
    "def gen_bill_embeddings(bills):\n",
    "    bill_embeddings = []\n",
    "    for bill in tqdm(bills, desc=\"Generating embeddings\"):\n",
    "        embedding = gen_embedding(bill[\"verboseSummary\"])\n",
    "        bill_embeddings.append((bill[\"billId\"], bill[\"title\"], embedding))\n",
    "    return bill_embeddings\n",
    "\n",
    "\n",
    "def load_embeddings_from_file():\n",
    "    with open(\"bill_embeddings.jsons\", \"r\") as file:\n",
    "        bill_embeddings = []\n",
    "        for line in file:\n",
    "            json_object = json.loads(line)\n",
    "            bill_embeddings.append(\n",
    "                (\n",
    "                    json_object[\"billId\"],\n",
    "                    json_object[\"title\"],\n",
    "                    np.array(json_object[\"embedding\"]),\n",
    "                )\n",
    "            )\n",
    "        return bill_embeddings\n",
    "\n",
    "\n",
    "# either gen your embeddings\n",
    "if gen_embeddings_from_scratch:\n",
    "    bill_embeddings = gen_bill_embeddings(all)\n",
    "    print(\"Embeddings generated! ✅\")\n",
    "    # output embeddings to file\n",
    "    with open(\"bill_embeddings.jsons\", \"w\") as file:\n",
    "        for bill_id, title, embedding in bill_embeddings:\n",
    "            json.dump(\n",
    "                {\"billId\": bill_id, \"title\": title, \"embedding\": embedding.tolist()},\n",
    "                file,\n",
    "            )\n",
    "            file.write(\"\\n\")\n",
    "\n",
    "# or load them\n",
    "if not gen_embeddings_from_scratch:\n",
    "    bill_embeddings = load_embeddings_from_file()\n",
    "    print(\"Embeddings loaded! ✅\")\n",
    "\n",
    "# Compute cosine similarity\n",
    "def cosine_sim(embedding1, embedding2):\n",
    "    return cosine_similarity([embedding1], [embedding2])[0][0]\n",
    "\n",
    "# Search function\n",
    "def search_bills(query, bill_embeddings):\n",
    "    query_embedding = gen_embedding(query)\n",
    "    similarities = [\n",
    "        (bill_id, title, cosine_sim(query_embedding, embedding))\n",
    "        for bill_id, title, embedding in bill_embeddings\n",
    "    ]\n",
    "    # Sort by similarity\n",
    "    similarities.sort(key=lambda x: x[2], reverse=True)\n",
    "    # Return the most relevant bill\n",
    "    return similarities[0:5]\n",
    "\n",
    "\n",
    "# Interactive search with top 5 ranking\n",
    "while True:\n",
    "    query = input(\"Enter a query: \")\n",
    "    if query == \"exit\":\n",
    "        break\n",
    "    results = search_bills(query, bill_embeddings)\n",
    "    print(f\"Query: {query}\")\n",
    "    print(\"Top 5 results:\")\n",
    "    for i, (bill_id, title, similarity) in enumerate(results):\n",
    "        print(f\"{i+1}. {title} (similarity: {similarity:.2f})\")"
   ]
  }
 ],
 "metadata": {
  "kernelspec": {
   "display_name": "venv",
   "language": "python",
   "name": "python3"
  },
  "language_info": {
   "codemirror_mode": {
    "name": "ipython",
    "version": 3
   },
   "file_extension": ".py",
   "mimetype": "text/x-python",
   "name": "python",
   "nbconvert_exporter": "python",
   "pygments_lexer": "ipython3",
   "version": "3.11.7"
  }
 },
 "nbformat": 4,
 "nbformat_minor": 2
}
