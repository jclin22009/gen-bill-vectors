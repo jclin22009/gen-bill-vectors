{
 "cells": [
  {
   "cell_type": "code",
   "execution_count": 1,
   "metadata": {},
   "outputs": [
    {
     "name": "stderr",
     "output_type": "stream",
     "text": [
      "Reading bills: 0it [00:00, ?it/s]"
     ]
    },
    {
     "name": "stderr",
     "output_type": "stream",
     "text": [
      "Reading bills: 11902it [00:00, 28106.36it/s]"
     ]
    },
    {
     "name": "stdout",
     "output_type": "stream",
     "text": [
      "Read! ✅\n"
     ]
    },
    {
     "name": "stderr",
     "output_type": "stream",
     "text": [
      "\n"
     ]
    }
   ],
   "source": [
    "# # LOAD ORIGINAL BILLS\n",
    "\n",
    "import json\n",
    "from tqdm import tqdm\n",
    "\n",
    "# Read data from JSON\n",
    "parsed_data = []\n",
    "first_50 = []\n",
    "all = []\n",
    "# Bill fields: 'billId', 'title', 'introducedDate', 'billText', 'crsSummary', 'briefSummary', 'verboseSummary'\n",
    "with open(\"data.jsons\", \"r\") as file:\n",
    "    for line in tqdm(file, desc=\"Reading bills\"):\n",
    "        json_object = json.loads(line)\n",
    "        parsed_data.append(json_object)\n",
    "    health_bills = [\n",
    "        bill\n",
    "        for bill in parsed_data\n",
    "        if \"health\" in bill[\"title\"].lower() and len(bill[\"billText\"].split()) <= 500\n",
    "    ]\n",
    "    first_50 = health_bills[:50]\n",
    "    all = [ bill for bill in parsed_data]\n",
    "print('Read! ✅')\n",
    "pass"
   ]
  },
  {
   "cell_type": "code",
   "execution_count": 2,
   "metadata": {},
   "outputs": [
    {
     "name": "stdout",
     "output_type": "stream",
     "text": [
      "Embeddings loaded! ✅\n",
      "Query: school shooting gun violence\n",
      "Top 5 results:\n",
      "1. Identifying Mass Shooters Act (similarity: 0.52) \n",
      "            number of occurrences of keyword in bill text: 0\n",
      "            number of occurrences of keyword in bill summary: 0\n",
      "            number of occurrences of keyword in bill title: 0\n",
      ")\n",
      "2. Expressing support for the designation of June 2, 2023, as \"National Gun Violence Awareness Day\" and June 2023 as \"National Gun Violence Awareness Month\". (similarity: 0.51) \n",
      "            number of occurrences of keyword in bill text: 0\n",
      "            number of occurrences of keyword in bill summary: 0\n",
      "            number of occurrences of keyword in bill title: 0\n",
      ")\n",
      "3. Condemning the horrific shootings that occurred in Louisville, Kentucky, on April 10, 2023, in the Old National Bank building, and on April 15, 2023, in Chickasaw Park, honoring the memory of the victims of the attacks, expressing condolences and support to all those impacted by these tragedies, and reaffirming the commitment of the House of Representatives to support all victims of gun violence. (similarity: 0.49) \n",
      "            number of occurrences of keyword in bill text: 0\n",
      "            number of occurrences of keyword in bill summary: 0\n",
      "            number of occurrences of keyword in bill title: 0\n",
      ")\n",
      "4. A resolution honoring the memories of the victims of the senseless attack at Marjory Stoneman Douglas High School on February 14, 2018. (similarity: 0.48) \n",
      "            number of occurrences of keyword in bill text: 0\n",
      "            number of occurrences of keyword in bill summary: 0\n",
      "            number of occurrences of keyword in bill title: 0\n",
      ")\n",
      "5. A resolution honoring the memories of the victims of the senseless attack at the Covenant School on March 27, 2023. (similarity: 0.48) \n",
      "            number of occurrences of keyword in bill text: 0\n",
      "            number of occurrences of keyword in bill summary: 0\n",
      "            number of occurrences of keyword in bill title: 0\n",
      ")\n"
     ]
    }
   ],
   "source": [
    "from dotenv import load_dotenv\n",
    "from openai import OpenAI\n",
    "import numpy as np\n",
    "import os\n",
    "from sklearn.metrics.pairwise import cosine_similarity\n",
    "import json\n",
    "\n",
    "gen_embeddings_from_scratch = False\n",
    "\n",
    "# load openAI API key\n",
    "load_dotenv()\n",
    "client = OpenAI(api_key=os.environ.get(\"OPENAI_API_KEY\"))\n",
    "\n",
    "\n",
    "def gen_embedding(text):\n",
    "    response = client.embeddings.create(\n",
    "        input=text,\n",
    "        model=\"text-embedding-3-large\",\n",
    "    )\n",
    "    return np.array(response.data[0].embedding)\n",
    "\n",
    "\n",
    "def load_embeddings_from_file():\n",
    "    with open(\"bill_embeddings.jsons\", \"r\") as file:\n",
    "        bill_embeddings = []\n",
    "        for line in file:\n",
    "            json_object = json.loads(line)\n",
    "            bill_embeddings.append(\n",
    "                (\n",
    "                    json_object[\"billId\"],\n",
    "                    json_object[\"title\"],\n",
    "                    np.array(json_object[\"embedding\"]),\n",
    "                )\n",
    "            )\n",
    "        return bill_embeddings\n",
    "\n",
    "\n",
    "# or load them\n",
    "if not gen_embeddings_from_scratch:\n",
    "    bill_embeddings = load_embeddings_from_file()\n",
    "    print(\"Embeddings loaded! ✅\")\n",
    "\n",
    "\n",
    "# Compute cosine similarity\n",
    "def cosine_sim(embedding1, embedding2):\n",
    "    return cosine_similarity([embedding1], [embedding2])[0][0]\n",
    "\n",
    "\n",
    "def search_bills(query, bill_embeddings, parsed_data):\n",
    "    query_embedding = gen_embedding(query)\n",
    "    similarities = []\n",
    "    for bill_id, title, embedding in bill_embeddings:\n",
    "        for bill in parsed_data:\n",
    "            if bill[\"billId\"] == bill_id:\n",
    "                similarity = cosine_sim(query_embedding, embedding)\n",
    "                similarities.append((bill, similarity))\n",
    "                break\n",
    "    # Sort by similarity\n",
    "    similarities.sort(key=lambda x: x[1], reverse=True)\n",
    "    # Return the most relevant bills with their entire objects\n",
    "    return similarities[0:5]\n",
    "\n",
    "\n",
    "# Interactive search with top 5 ranking\n",
    "results = []\n",
    "while True:\n",
    "    query = input(\"Enter a query: \")\n",
    "    if query == \"exit\":\n",
    "        break\n",
    "    results = search_bills(query, bill_embeddings, parsed_data)\n",
    "    print(f\"Query: {query}\")\n",
    "    print(\"Top 5 results:\")\n",
    "    for i, (bill, similarity) in enumerate(results):\n",
    "        # print(f\"{i+1}. {bill['title']} (similarity: {similarity:.2f}\")\n",
    "        print(\n",
    "            f\"{i+1}. {bill['title']} (similarity: {similarity:.2f}) \\n\\\n",
    "            number of occurrences of keyword in bill text: {bill['billText'].lower().count(query.lower())}\\n\\\n",
    "            number of occurrences of keyword in bill summary: {bill['crsSummary'].lower().count(query.lower())}\\n\\\n",
    "            number of occurrences of keyword in bill title: {bill['title'].lower().count(query.lower())}\\n)\"\n",
    "        )"
   ]
  },
  {
   "cell_type": "code",
   "execution_count": 9,
   "metadata": {},
   "outputs": [
    {
     "name": "stdout",
     "output_type": "stream",
     "text": [
      "Health CARE Training Act\n"
     ]
    }
   ],
   "source": [
    "# generate embeddings for "
   ]
  }
 ],
 "metadata": {
  "kernelspec": {
   "display_name": "venv",
   "language": "python",
   "name": "python3"
  },
  "language_info": {
   "codemirror_mode": {
    "name": "ipython",
    "version": 3
   },
   "file_extension": ".py",
   "mimetype": "text/x-python",
   "name": "python",
   "nbconvert_exporter": "python",
   "pygments_lexer": "ipython3",
   "version": "3.11.7"
  }
 },
 "nbformat": 4,
 "nbformat_minor": 2
}
