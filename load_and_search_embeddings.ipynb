{
 "cells": [
  {
   "cell_type": "code",
   "execution_count": 1,
   "metadata": {},
   "outputs": [
    {
     "name": "stdout",
     "output_type": "stream",
     "text": [
      "Embeddings loaded! ✅\n",
      "Query: \n",
      "Top 5 results:\n",
      "1. Condemning antisemitism on college campuses. (similarity: 0.17)\n",
      "2. Condemning antisemitism on college campuses. (similarity: 0.16)\n",
      "3. Equality Act (similarity: 0.16)\n",
      "4. SALT Deductibility Act (similarity: 0.16)\n",
      "5. Reaffirming the support of the United States to our strongest ally in the region, Israel, and recognizing the authoritarian and extremist regime of the Islamic Republic of Iran as a threat to Israel, the region, the United States, and global stability. (similarity: 0.16)\n"
     ]
    }
   ],
   "source": [
    "from dotenv import load_dotenv\n",
    "from openai import OpenAI\n",
    "import numpy as np\n",
    "import os\n",
    "from sklearn.metrics.pairwise import cosine_similarity\n",
    "import json\n",
    "\n",
    "gen_embeddings_from_scratch = False\n",
    "\n",
    "# load openAI API key\n",
    "load_dotenv()\n",
    "client = OpenAI(api_key=os.environ.get(\"OPENAI_API_KEY\"))\n",
    "\n",
    "\n",
    "def gen_embedding(text):\n",
    "    response = client.embeddings.create(\n",
    "        input=text,\n",
    "        model=\"text-embedding-3-large\",\n",
    "    )\n",
    "    return np.array(response.data[0].embedding)\n",
    "\n",
    "\n",
    "def load_embeddings_from_file():\n",
    "    with open(\"bill_embeddings.jsons\", \"r\") as file:\n",
    "        bill_embeddings = []\n",
    "        for line in file:\n",
    "            json_object = json.loads(line)\n",
    "            bill_embeddings.append(\n",
    "                (\n",
    "                    json_object[\"billId\"],\n",
    "                    json_object[\"title\"],\n",
    "                    np.array(json_object[\"embedding\"]),\n",
    "                )\n",
    "            )\n",
    "        return bill_embeddings\n",
    "\n",
    "\n",
    "# or load them\n",
    "if not gen_embeddings_from_scratch:\n",
    "    bill_embeddings = load_embeddings_from_file()\n",
    "    print(\"Embeddings loaded! ✅\")\n",
    "\n",
    "\n",
    "# Compute cosine similarity\n",
    "def cosine_sim(embedding1, embedding2):\n",
    "    return cosine_similarity([embedding1], [embedding2])[0][0]\n",
    "\n",
    "\n",
    "# Search function\n",
    "def search_bills(query, bill_embeddings):\n",
    "    query_embedding = gen_embedding(query)\n",
    "    similarities = [\n",
    "        (bill_id, title, cosine_sim(query_embedding, embedding))\n",
    "        for bill_id, title, embedding in bill_embeddings\n",
    "    ]\n",
    "    # Sort by similarity\n",
    "    similarities.sort(key=lambda x: x[2], reverse=True)\n",
    "    # Return the most relevant bill\n",
    "    return similarities[0:5]\n",
    "\n",
    "\n",
    "# Interactive search with top 5 ranking\n",
    "while True:\n",
    "    query = input(\"Enter a query: \")\n",
    "    if query == \"exit\":\n",
    "        break\n",
    "    results = search_bills(query, bill_embeddings)\n",
    "    print(f\"Query: {query}\")\n",
    "    print(\"Top 5 results:\")\n",
    "    for i, (bill_id, title, similarity) in enumerate(results):\n",
    "        print(f\"{i+1}. {title} (similarity: {similarity:.2f})\")"
   ]
  }
 ],
 "metadata": {
  "kernelspec": {
   "display_name": "venv",
   "language": "python",
   "name": "python3"
  },
  "language_info": {
   "codemirror_mode": {
    "name": "ipython",
    "version": 3
   },
   "file_extension": ".py",
   "mimetype": "text/x-python",
   "name": "python",
   "nbconvert_exporter": "python",
   "pygments_lexer": "ipython3",
   "version": "3.11.7"
  }
 },
 "nbformat": 4,
 "nbformat_minor": 2
}
